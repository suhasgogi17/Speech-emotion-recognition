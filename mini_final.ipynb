{
  "cells": [
    {
      "cell_type": "code",
      "source": [
        "from google.colab import drive\n",
        "drive.mount('/content/drive')"
      ],
      "metadata": {
        "colab": {
          "base_uri": "https://localhost:8080/"
        },
        "id": "Ug3dFj5_FQdS",
        "outputId": "0447284e-f475-4d3d-9204-dfbba9736b5a"
      },
      "execution_count": null,
      "outputs": [
        {
          "output_type": "stream",
          "name": "stdout",
          "text": [
            "Mounted at /content/drive\n"
          ]
        }
      ]
    },
    {
      "cell_type": "code",
      "execution_count": null,
      "metadata": {
        "id": "txebBg9oqdsM"
      },
      "outputs": [],
      "source": [
        "import pandas as pd\n",
        "import numpy as np\n",
        "import os\n",
        "import glob\n",
        "import seaborn as sns\n",
        "import matplotlib.pyplot as plt\n",
        "import librosa\n",
        "import librosa.display\n",
        "from IPython.display import Audio\n",
        "import warnings\n",
        "warnings.filterwarnings('ignore')"
      ]
    },
    {
      "cell_type": "code",
      "execution_count": null,
      "metadata": {
        "id": "899X3idOr6uI"
      },
      "outputs": [],
      "source": [
        "list_emotion = {\n",
        "    \"01\": \"neutral\",\n",
        "    \"02\": \"calm\",\n",
        "    \"03\": \"happy\",\n",
        "    \"04\": \"sad\",\n",
        "    \"05\": \"angry\",\n",
        "    \"06\": \"fearful\",\n",
        "    \"07\": \"disgust\",\n",
        "    \"08\": \"surprised\"\n",
        "}"
      ]
    },
    {
      "cell_type": "code",
      "execution_count": null,
      "metadata": {
        "colab": {
          "base_uri": "https://localhost:8080/"
        },
        "id": "PV1TRi4-qh-C",
        "outputId": "57b6be26-907f-47e4-f0f0-d69078867f9b"
      },
      "outputs": [
        {
          "output_type": "stream",
          "name": "stdout",
          "text": [
            "Dataset is Loaded\n"
          ]
        }
      ],
      "source": [
        "paths = []\n",
        "labels = []\n",
        "for dirname, _, filenames in os.walk('drive/MyDrive/mini_project/dataset'):\n",
        "    for filename in filenames:\n",
        "        paths.append(os.path.join(dirname, filename))\n",
        "        basename = os.path.basename(filename)  # get the base name of the audio file\n",
        "\n",
        "        emotion = list_emotion[basename.split(\"-\")[2]]\n",
        "        labels.append(emotion)\n",
        "\n",
        "\n",
        "print('Dataset is Loaded')"
      ]
    },
    {
      "cell_type": "code",
      "execution_count": null,
      "metadata": {
        "colab": {
          "base_uri": "https://localhost:8080/"
        },
        "id": "5nbZNZN0rSOp",
        "outputId": "27317620-8987-4c9f-b18d-df694c876b00"
      },
      "outputs": [
        {
          "output_type": "execute_result",
          "data": {
            "text/plain": [
              "2900"
            ]
          },
          "metadata": {},
          "execution_count": 5
        }
      ],
      "source": [
        "len(paths)"
      ]
    },
    {
      "cell_type": "code",
      "execution_count": null,
      "metadata": {
        "colab": {
          "base_uri": "https://localhost:8080/"
        },
        "id": "XjIx-3BorcmQ",
        "outputId": "c5080f61-4817-4baf-e001-fd35fa656ca1"
      },
      "outputs": [
        {
          "output_type": "execute_result",
          "data": {
            "text/plain": [
              "['drive/MyDrive/mini_project/dataset/Actor_16/03-01-03-01-01-01-16.wav',\n",
              " 'drive/MyDrive/mini_project/dataset/Actor_16/03-01-06-01-02-01-16.wav',\n",
              " 'drive/MyDrive/mini_project/dataset/Actor_16/03-01-01-01-02-01-16.wav',\n",
              " 'drive/MyDrive/mini_project/dataset/Actor_16/03-01-02-02-01-02-16.wav',\n",
              " 'drive/MyDrive/mini_project/dataset/Actor_16/03-01-05-02-01-02-16.wav']"
            ]
          },
          "metadata": {},
          "execution_count": 6
        }
      ],
      "source": [
        "paths[:5]"
      ]
    },
    {
      "cell_type": "code",
      "execution_count": null,
      "metadata": {
        "colab": {
          "base_uri": "https://localhost:8080/"
        },
        "id": "jpcsaPF9rjTc",
        "outputId": "7270f45e-8490-494d-e883-c17693cf8440"
      },
      "outputs": [
        {
          "output_type": "execute_result",
          "data": {
            "text/plain": [
              "['happy', 'fearful', 'neutral', 'calm', 'angry']"
            ]
          },
          "metadata": {},
          "execution_count": 7
        }
      ],
      "source": [
        "labels[:5]"
      ]
    },
    {
      "cell_type": "code",
      "execution_count": null,
      "metadata": {
        "colab": {
          "base_uri": "https://localhost:8080/",
          "height": 206
        },
        "id": "-m7AB8bXrrdH",
        "outputId": "ec8d94c0-31cd-4172-a6e8-26fd68ddf366"
      },
      "outputs": [
        {
          "output_type": "execute_result",
          "data": {
            "text/plain": [
              "                                              speech    label\n",
              "0  drive/MyDrive/mini_project/dataset/Actor_16/03...    happy\n",
              "1  drive/MyDrive/mini_project/dataset/Actor_16/03...  fearful\n",
              "2  drive/MyDrive/mini_project/dataset/Actor_16/03...  neutral\n",
              "3  drive/MyDrive/mini_project/dataset/Actor_16/03...     calm\n",
              "4  drive/MyDrive/mini_project/dataset/Actor_16/03...    angry"
            ],
            "text/html": [
              "\n",
              "  <div id=\"df-31fc1245-a0b1-4782-9de5-55e34d993158\">\n",
              "    <div class=\"colab-df-container\">\n",
              "      <div>\n",
              "<style scoped>\n",
              "    .dataframe tbody tr th:only-of-type {\n",
              "        vertical-align: middle;\n",
              "    }\n",
              "\n",
              "    .dataframe tbody tr th {\n",
              "        vertical-align: top;\n",
              "    }\n",
              "\n",
              "    .dataframe thead th {\n",
              "        text-align: right;\n",
              "    }\n",
              "</style>\n",
              "<table border=\"1\" class=\"dataframe\">\n",
              "  <thead>\n",
              "    <tr style=\"text-align: right;\">\n",
              "      <th></th>\n",
              "      <th>speech</th>\n",
              "      <th>label</th>\n",
              "    </tr>\n",
              "  </thead>\n",
              "  <tbody>\n",
              "    <tr>\n",
              "      <th>0</th>\n",
              "      <td>drive/MyDrive/mini_project/dataset/Actor_16/03...</td>\n",
              "      <td>happy</td>\n",
              "    </tr>\n",
              "    <tr>\n",
              "      <th>1</th>\n",
              "      <td>drive/MyDrive/mini_project/dataset/Actor_16/03...</td>\n",
              "      <td>fearful</td>\n",
              "    </tr>\n",
              "    <tr>\n",
              "      <th>2</th>\n",
              "      <td>drive/MyDrive/mini_project/dataset/Actor_16/03...</td>\n",
              "      <td>neutral</td>\n",
              "    </tr>\n",
              "    <tr>\n",
              "      <th>3</th>\n",
              "      <td>drive/MyDrive/mini_project/dataset/Actor_16/03...</td>\n",
              "      <td>calm</td>\n",
              "    </tr>\n",
              "    <tr>\n",
              "      <th>4</th>\n",
              "      <td>drive/MyDrive/mini_project/dataset/Actor_16/03...</td>\n",
              "      <td>angry</td>\n",
              "    </tr>\n",
              "  </tbody>\n",
              "</table>\n",
              "</div>\n",
              "      <button class=\"colab-df-convert\" onclick=\"convertToInteractive('df-31fc1245-a0b1-4782-9de5-55e34d993158')\"\n",
              "              title=\"Convert this dataframe to an interactive table.\"\n",
              "              style=\"display:none;\">\n",
              "        \n",
              "  <svg xmlns=\"http://www.w3.org/2000/svg\" height=\"24px\"viewBox=\"0 0 24 24\"\n",
              "       width=\"24px\">\n",
              "    <path d=\"M0 0h24v24H0V0z\" fill=\"none\"/>\n",
              "    <path d=\"M18.56 5.44l.94 2.06.94-2.06 2.06-.94-2.06-.94-.94-2.06-.94 2.06-2.06.94zm-11 1L8.5 8.5l.94-2.06 2.06-.94-2.06-.94L8.5 2.5l-.94 2.06-2.06.94zm10 10l.94 2.06.94-2.06 2.06-.94-2.06-.94-.94-2.06-.94 2.06-2.06.94z\"/><path d=\"M17.41 7.96l-1.37-1.37c-.4-.4-.92-.59-1.43-.59-.52 0-1.04.2-1.43.59L10.3 9.45l-7.72 7.72c-.78.78-.78 2.05 0 2.83L4 21.41c.39.39.9.59 1.41.59.51 0 1.02-.2 1.41-.59l7.78-7.78 2.81-2.81c.8-.78.8-2.07 0-2.86zM5.41 20L4 18.59l7.72-7.72 1.47 1.35L5.41 20z\"/>\n",
              "  </svg>\n",
              "      </button>\n",
              "      \n",
              "  <style>\n",
              "    .colab-df-container {\n",
              "      display:flex;\n",
              "      flex-wrap:wrap;\n",
              "      gap: 12px;\n",
              "    }\n",
              "\n",
              "    .colab-df-convert {\n",
              "      background-color: #E8F0FE;\n",
              "      border: none;\n",
              "      border-radius: 50%;\n",
              "      cursor: pointer;\n",
              "      display: none;\n",
              "      fill: #1967D2;\n",
              "      height: 32px;\n",
              "      padding: 0 0 0 0;\n",
              "      width: 32px;\n",
              "    }\n",
              "\n",
              "    .colab-df-convert:hover {\n",
              "      background-color: #E2EBFA;\n",
              "      box-shadow: 0px 1px 2px rgba(60, 64, 67, 0.3), 0px 1px 3px 1px rgba(60, 64, 67, 0.15);\n",
              "      fill: #174EA6;\n",
              "    }\n",
              "\n",
              "    [theme=dark] .colab-df-convert {\n",
              "      background-color: #3B4455;\n",
              "      fill: #D2E3FC;\n",
              "    }\n",
              "\n",
              "    [theme=dark] .colab-df-convert:hover {\n",
              "      background-color: #434B5C;\n",
              "      box-shadow: 0px 1px 3px 1px rgba(0, 0, 0, 0.15);\n",
              "      filter: drop-shadow(0px 1px 2px rgba(0, 0, 0, 0.3));\n",
              "      fill: #FFFFFF;\n",
              "    }\n",
              "  </style>\n",
              "\n",
              "      <script>\n",
              "        const buttonEl =\n",
              "          document.querySelector('#df-31fc1245-a0b1-4782-9de5-55e34d993158 button.colab-df-convert');\n",
              "        buttonEl.style.display =\n",
              "          google.colab.kernel.accessAllowed ? 'block' : 'none';\n",
              "\n",
              "        async function convertToInteractive(key) {\n",
              "          const element = document.querySelector('#df-31fc1245-a0b1-4782-9de5-55e34d993158');\n",
              "          const dataTable =\n",
              "            await google.colab.kernel.invokeFunction('convertToInteractive',\n",
              "                                                     [key], {});\n",
              "          if (!dataTable) return;\n",
              "\n",
              "          const docLinkHtml = 'Like what you see? Visit the ' +\n",
              "            '<a target=\"_blank\" href=https://colab.research.google.com/notebooks/data_table.ipynb>data table notebook</a>'\n",
              "            + ' to learn more about interactive tables.';\n",
              "          element.innerHTML = '';\n",
              "          dataTable['output_type'] = 'display_data';\n",
              "          await google.colab.output.renderOutput(dataTable, element);\n",
              "          const docLink = document.createElement('div');\n",
              "          docLink.innerHTML = docLinkHtml;\n",
              "          element.appendChild(docLink);\n",
              "        }\n",
              "      </script>\n",
              "    </div>\n",
              "  </div>\n",
              "  "
            ]
          },
          "metadata": {},
          "execution_count": 8
        }
      ],
      "source": [
        "df = pd.DataFrame()\n",
        "df['speech'] = paths\n",
        "df['label'] = labels\n",
        "df.head()"
      ]
    },
    {
      "cell_type": "code",
      "execution_count": null,
      "metadata": {
        "colab": {
          "base_uri": "https://localhost:8080/"
        },
        "id": "8ODc5i2SzzZI",
        "outputId": "fd837cd4-36f5-4166-f726-a59974fa2e97"
      },
      "outputs": [
        {
          "output_type": "execute_result",
          "data": {
            "text/plain": [
              "calm         398\n",
              "happy        390\n",
              "fearful      384\n",
              "angry        384\n",
              "sad          384\n",
              "disgust      384\n",
              "surprised    384\n",
              "neutral      192\n",
              "Name: label, dtype: int64"
            ]
          },
          "metadata": {},
          "execution_count": 9
        }
      ],
      "source": [
        "df['label'].value_counts()"
      ]
    },
    {
      "cell_type": "code",
      "execution_count": null,
      "metadata": {
        "id": "oRJcf74D0BrA"
      },
      "outputs": [],
      "source": [
        "def extract_feature(filename):\n",
        "    data, sample_rate = librosa.load(filename)\n",
        "    stft = np.abs(librosa.stft(data))\n",
        "    mfccs = np.mean(librosa.feature.mfcc(y=data, sr=sample_rate, n_mfcc=40).T, axis=0)\n",
        "    mel = np.mean(librosa.feature.melspectrogram(data, sr=sample_rate).T,axis=0)\n",
        "    chroma = np.mean(librosa.feature.chroma_stft(S=stft, sr=sample_rate).T,axis=0)\n",
        "    contrast = np.mean(librosa.feature.spectral_contrast(S=stft, sr=sample_rate).T,axis=0)\n",
        "    return mfccs"
      ]
    },
    {
      "cell_type": "code",
      "execution_count": null,
      "metadata": {
        "colab": {
          "base_uri": "https://localhost:8080/"
        },
        "id": "JX9qJD5o1S-W",
        "outputId": "5293ff97-d240-4f57-d9fa-92b92a1438c4"
      },
      "outputs": [
        {
          "output_type": "execute_result",
          "data": {
            "text/plain": [
              "array([-5.9386768e+02,  4.2766674e+01, -1.3588821e+01,  9.2966251e+00,\n",
              "       -4.3494596e+00, -7.3283110e+00, -1.1642889e+01, -8.2818937e+00,\n",
              "       -7.3986855e+00,  1.1769481e+00, -1.1669778e+01, -2.4123898e+00,\n",
              "       -1.8806301e+00, -4.5035563e+00, -3.9620538e+00, -5.9451132e+00,\n",
              "       -6.2600498e+00, -2.4723210e+00, -6.0073075e+00, -2.2582023e+00,\n",
              "       -4.9507222e+00, -4.5176630e+00, -4.7073860e+00, -1.5303017e+00,\n",
              "       -4.2095904e+00,  2.6708980e+00,  4.8840713e-02,  2.0904801e+00,\n",
              "       -1.9206530e+00, -2.0623198e+00, -3.4813678e+00,  4.3015122e-02,\n",
              "        6.5309185e-01,  4.5408354e+00,  2.8296535e+00,  5.8420634e+00,\n",
              "        2.7520027e+00,  1.3423792e+00, -9.6067172e-01,  6.5380953e-02],\n",
              "      dtype=float32)"
            ]
          },
          "metadata": {},
          "execution_count": 11
        }
      ],
      "source": [
        "extract_feature(df['speech'][0])"
      ]
    },
    {
      "cell_type": "code",
      "execution_count": null,
      "metadata": {
        "colab": {
          "base_uri": "https://localhost:8080/"
        },
        "id": "YQK3TeX1AkDi",
        "outputId": "af48d3d7-4cb2-4672-c22f-a8a299c66237"
      },
      "outputs": [
        {
          "output_type": "stream",
          "name": "stdout",
          "text": [
            "Tue Dec  6 06:19:13 2022       \n",
            "+-----------------------------------------------------------------------------+\n",
            "| NVIDIA-SMI 460.32.03    Driver Version: 460.32.03    CUDA Version: 11.2     |\n",
            "|-------------------------------+----------------------+----------------------+\n",
            "| GPU  Name        Persistence-M| Bus-Id        Disp.A | Volatile Uncorr. ECC |\n",
            "| Fan  Temp  Perf  Pwr:Usage/Cap|         Memory-Usage | GPU-Util  Compute M. |\n",
            "|                               |                      |               MIG M. |\n",
            "|===============================+======================+======================|\n",
            "|   0  Tesla T4            Off  | 00000000:00:04.0 Off |                    0 |\n",
            "| N/A   56C    P0    29W /  70W |      0MiB / 15109MiB |      0%      Default |\n",
            "|                               |                      |                  N/A |\n",
            "+-------------------------------+----------------------+----------------------+\n",
            "                                                                               \n",
            "+-----------------------------------------------------------------------------+\n",
            "| Processes:                                                                  |\n",
            "|  GPU   GI   CI        PID   Type   Process name                  GPU Memory |\n",
            "|        ID   ID                                                   Usage      |\n",
            "|=============================================================================|\n",
            "|  No running processes found                                                 |\n",
            "+-----------------------------------------------------------------------------+\n"
          ]
        }
      ],
      "source": [
        "!nvidia-smi"
      ]
    },
    {
      "cell_type": "code",
      "execution_count": null,
      "metadata": {
        "id": "cJlDI_5b1Twj"
      },
      "outputs": [],
      "source": [
        "x_mfccs = df['speech'].apply(lambda x: extract_feature(x))"
      ]
    },
    {
      "cell_type": "code",
      "execution_count": null,
      "metadata": {
        "colab": {
          "base_uri": "https://localhost:8080/"
        },
        "id": "esgRgSeVApOD",
        "outputId": "91178e62-0441-4285-be04-3f4effedaf22"
      },
      "outputs": [
        {
          "output_type": "execute_result",
          "data": {
            "text/plain": [
              "0       [-593.8677, 42.766674, -13.588821, 9.296625, -...\n",
              "1       [-584.0855, 39.733234, -2.819869, 10.983516, -...\n",
              "2       [-634.3659, 53.52496, 1.9311182, 10.183448, -1...\n",
              "3       [-617.10803, 57.961075, -1.6098831, 11.663807,...\n",
              "4       [-426.69778, 30.02772, -20.288496, 4.213167, -...\n",
              "                              ...                        \n",
              "2895    [-537.498, 33.912415, -17.367428, 1.641448, -1...\n",
              "2896    [-576.32227, 45.961117, -18.4776, 6.270887, -1...\n",
              "2897    [-618.717, 52.87845, -10.296721, 5.4750185, -6...\n",
              "2898    [-550.753, 48.40233, -16.642029, 0.59691024, -...\n",
              "2899    [-559.0442, 47.58398, -17.176203, 2.4187784, -...\n",
              "Name: speech, Length: 2900, dtype: object"
            ]
          },
          "metadata": {},
          "execution_count": 14
        }
      ],
      "source": [
        "x_mfccs"
      ]
    },
    {
      "cell_type": "code",
      "execution_count": null,
      "metadata": {
        "id": "tzZbat2MaF8l"
      },
      "outputs": [],
      "source": [
        "def extract_feature_4(filename):\n",
        "    data, sample_rate = librosa.load(filename)\n",
        "    stft = np.abs(librosa.stft(data))\n",
        "\n",
        "    contrast = np.mean(librosa.feature.spectral_contrast(S=stft, sr=sample_rate).T,axis=0)\n",
        "    return contrast"
      ]
    },
    {
      "cell_type": "code",
      "execution_count": null,
      "metadata": {
        "id": "-SCyi-c7aZlt"
      },
      "outputs": [],
      "source": [
        "x_contrast = df['speech'].apply(lambda x: extract_feature_4(x))"
      ]
    },
    {
      "cell_type": "code",
      "execution_count": null,
      "metadata": {
        "colab": {
          "base_uri": "https://localhost:8080/"
        },
        "id": "5RueKYbeeyjk",
        "outputId": "2d219213-488b-42c7-df9a-ba6eadf37afb"
      },
      "outputs": [
        {
          "output_type": "execute_result",
          "data": {
            "text/plain": [
              "0       [19.435276903820533, 16.64579667440855, 18.036...\n",
              "1       [16.109572509579657, 15.35540299508464, 16.756...\n",
              "2       [18.93725247510756, 15.633540928174398, 17.859...\n",
              "3       [17.77508695327363, 15.18141954088422, 16.6121...\n",
              "4       [14.869500633884035, 16.104168992151173, 17.33...\n",
              "                              ...                        \n",
              "2895    [12.401401521991385, 13.462099429514796, 15.68...\n",
              "2896    [19.257106109444656, 16.517123641532084, 16.69...\n",
              "2897    [20.016517107752957, 16.348092385952583, 17.41...\n",
              "2898    [18.75775986664647, 15.981829134527645, 16.712...\n",
              "2899    [18.86399325383258, 15.861253116469742, 16.013...\n",
              "Name: speech, Length: 2900, dtype: object"
            ]
          },
          "metadata": {},
          "execution_count": 17
        }
      ],
      "source": [
        "x_contrast"
      ]
    },
    {
      "cell_type": "code",
      "execution_count": null,
      "metadata": {
        "colab": {
          "base_uri": "https://localhost:8080/"
        },
        "id": "EG_xNnKY_7u9",
        "outputId": "f44d5f8d-23a5-41c0-af5b-2ad57e250a75"
      },
      "outputs": [
        {
          "output_type": "execute_result",
          "data": {
            "text/plain": [
              "array([19.4352769 , 16.64579667, 18.03651271, 17.10428527, 17.93069727,\n",
              "       18.53633056, 42.16982881])"
            ]
          },
          "metadata": {},
          "execution_count": 18
        }
      ],
      "source": [
        "x_contrast[0]"
      ]
    },
    {
      "cell_type": "code",
      "source": [
        "def extract_feature_3(filename):\n",
        "    data, sample_rate = librosa.load(filename)\n",
        "    stft = np.abs(librosa.stft(data))\n",
        "\n",
        "    chroma = np.mean(librosa.feature.chroma_stft(S=stft, sr=sample_rate).T,axis=0)\n",
        "    return chroma"
      ],
      "metadata": {
        "id": "DvDFVGa-AjBN"
      },
      "execution_count": null,
      "outputs": []
    },
    {
      "cell_type": "code",
      "source": [
        "x_chroma = df['speech'].apply(lambda x: extract_feature_3(x))"
      ],
      "metadata": {
        "id": "-7wasCenA4ev"
      },
      "execution_count": null,
      "outputs": []
    },
    {
      "cell_type": "code",
      "execution_count": null,
      "metadata": {
        "colab": {
          "base_uri": "https://localhost:8080/"
        },
        "id": "jtoDa0HZeyJT",
        "outputId": "6805d271-b92c-42c8-add8-6804fea25ed0"
      },
      "outputs": [
        {
          "output_type": "execute_result",
          "data": {
            "text/plain": [
              "12"
            ]
          },
          "metadata": {},
          "execution_count": 21
        }
      ],
      "source": [
        "len(x_chroma[0])"
      ]
    },
    {
      "cell_type": "code",
      "source": [
        "x_mfccs = list(x_mfccs)\n",
        "x_contrast = list(x_contrast)\n",
        "x_chroma = list(x_chroma)\n",
        "from itertools import chain\n",
        "x_da = [list(chain.from_iterable(x)) for x in zip(x_mfccs,x_contrast,x_chroma)]\n",
        "len(x_da[0])"
      ],
      "metadata": {
        "colab": {
          "base_uri": "https://localhost:8080/"
        },
        "id": "DiGBSfpF8TFv",
        "outputId": "6db80c1d-d656-47a9-c553-c53e6617c569"
      },
      "execution_count": null,
      "outputs": [
        {
          "output_type": "execute_result",
          "data": {
            "text/plain": [
              "59"
            ]
          },
          "metadata": {},
          "execution_count": 22
        }
      ]
    },
    {
      "cell_type": "code",
      "execution_count": null,
      "metadata": {
        "colab": {
          "base_uri": "https://localhost:8080/",
          "height": 488
        },
        "id": "5jDCtkH4aSzQ",
        "outputId": "7ba8d719-8ebb-4bc4-bbdb-87fb07117e34"
      },
      "outputs": [
        {
          "output_type": "execute_result",
          "data": {
            "text/plain": [
              "              m1         m2         m3         m4         m5         m6  \\\n",
              "0    -593.867676  42.766674 -13.588821   9.296625  -4.349460  -7.328311   \n",
              "1    -584.085510  39.733234  -2.819869  10.983516  -1.897791  -6.922876   \n",
              "2    -634.365906  53.524960   1.931118  10.183448  -1.134427  -9.264474   \n",
              "3    -617.108032  57.961075  -1.609883  11.663807   2.932618  -6.709863   \n",
              "4    -426.697784  30.027719 -20.288496   4.213167 -12.470323 -10.929867   \n",
              "...          ...        ...        ...        ...        ...        ...   \n",
              "2895 -537.497986  33.912415 -17.367428   1.641448 -13.561514 -10.013611   \n",
              "2896 -576.322266  45.961117 -18.477600   6.270887 -15.408111  -2.556136   \n",
              "2897 -618.716980  52.878448 -10.296721   5.475019  -6.781945  -1.335837   \n",
              "2898 -550.752991  48.402328 -16.642029   0.596910 -12.640155  -3.948209   \n",
              "2899 -559.044189  47.583981 -17.176203   2.418778 -11.840793  -3.964209   \n",
              "\n",
              "             m7         m8         m9       m10  ...        h3        h4  \\\n",
              "0    -11.642889  -8.281894  -7.398685  1.176948  ...  0.534104  0.490328   \n",
              "1    -14.886739  -9.417712  -5.231410  1.352311  ...  0.595505  0.574596   \n",
              "2    -16.133320  -5.179246  -7.692840  1.537901  ...  0.651007  0.600976   \n",
              "3    -11.051159  -4.720947  -4.965144  0.344765  ...  0.586239  0.577910   \n",
              "4     -6.361925 -12.002077 -13.903050  5.385250  ...  0.557655  0.544142   \n",
              "...         ...        ...        ...       ...  ...       ...       ...   \n",
              "2895  -6.788619  -9.947794  -9.232779 -3.985822  ...  0.691943  0.684802   \n",
              "2896  -9.277953 -12.990032  -7.808734  0.290190  ...  0.479396  0.495040   \n",
              "2897  -9.393105 -11.687968  -7.041688  1.007899  ...  0.434423  0.448702   \n",
              "2898 -14.291334 -14.503586  -6.559266 -1.528507  ...  0.535383  0.540516   \n",
              "2899 -12.633837 -12.301811  -7.281783  0.527181  ...  0.607340  0.621357   \n",
              "\n",
              "            h5        h6        h7        h8        h9       h10       h11  \\\n",
              "0     0.418054  0.412552  0.516447  0.567496  0.528193  0.520183  0.531675   \n",
              "1     0.508687  0.490343  0.550999  0.560133  0.625444  0.707241  0.715302   \n",
              "2     0.605563  0.618894  0.610335  0.649571  0.664244  0.659528  0.667636   \n",
              "3     0.588816  0.593688  0.607869  0.610051  0.651315  0.742181  0.711857   \n",
              "4     0.530530  0.558295  0.586619  0.541569  0.536285  0.568345  0.551319   \n",
              "...        ...       ...       ...       ...       ...       ...       ...   \n",
              "2895  0.608561  0.577731  0.619962  0.669661  0.680618  0.696035  0.723051   \n",
              "2896  0.493665  0.513156  0.542380  0.561550  0.599118  0.572351  0.573544   \n",
              "2897  0.455442  0.533610  0.546764  0.531184  0.527218  0.577220  0.587715   \n",
              "2898  0.505517  0.521778  0.565526  0.610539  0.592268  0.614464  0.652888   \n",
              "2899  0.606697  0.616823  0.628379  0.651883  0.717453  0.752946  0.757269   \n",
              "\n",
              "           h12  \n",
              "0     0.561040  \n",
              "1     0.778056  \n",
              "2     0.690084  \n",
              "3     0.643531  \n",
              "4     0.571638  \n",
              "...        ...  \n",
              "2895  0.745801  \n",
              "2896  0.575123  \n",
              "2897  0.538401  \n",
              "2898  0.683912  \n",
              "2899  0.707169  \n",
              "\n",
              "[2900 rows x 59 columns]"
            ],
            "text/html": [
              "\n",
              "  <div id=\"df-e977aee4-8bed-4a4f-ab33-668023b4ce0e\">\n",
              "    <div class=\"colab-df-container\">\n",
              "      <div>\n",
              "<style scoped>\n",
              "    .dataframe tbody tr th:only-of-type {\n",
              "        vertical-align: middle;\n",
              "    }\n",
              "\n",
              "    .dataframe tbody tr th {\n",
              "        vertical-align: top;\n",
              "    }\n",
              "\n",
              "    .dataframe thead th {\n",
              "        text-align: right;\n",
              "    }\n",
              "</style>\n",
              "<table border=\"1\" class=\"dataframe\">\n",
              "  <thead>\n",
              "    <tr style=\"text-align: right;\">\n",
              "      <th></th>\n",
              "      <th>m1</th>\n",
              "      <th>m2</th>\n",
              "      <th>m3</th>\n",
              "      <th>m4</th>\n",
              "      <th>m5</th>\n",
              "      <th>m6</th>\n",
              "      <th>m7</th>\n",
              "      <th>m8</th>\n",
              "      <th>m9</th>\n",
              "      <th>m10</th>\n",
              "      <th>...</th>\n",
              "      <th>h3</th>\n",
              "      <th>h4</th>\n",
              "      <th>h5</th>\n",
              "      <th>h6</th>\n",
              "      <th>h7</th>\n",
              "      <th>h8</th>\n",
              "      <th>h9</th>\n",
              "      <th>h10</th>\n",
              "      <th>h11</th>\n",
              "      <th>h12</th>\n",
              "    </tr>\n",
              "  </thead>\n",
              "  <tbody>\n",
              "    <tr>\n",
              "      <th>0</th>\n",
              "      <td>-593.867676</td>\n",
              "      <td>42.766674</td>\n",
              "      <td>-13.588821</td>\n",
              "      <td>9.296625</td>\n",
              "      <td>-4.349460</td>\n",
              "      <td>-7.328311</td>\n",
              "      <td>-11.642889</td>\n",
              "      <td>-8.281894</td>\n",
              "      <td>-7.398685</td>\n",
              "      <td>1.176948</td>\n",
              "      <td>...</td>\n",
              "      <td>0.534104</td>\n",
              "      <td>0.490328</td>\n",
              "      <td>0.418054</td>\n",
              "      <td>0.412552</td>\n",
              "      <td>0.516447</td>\n",
              "      <td>0.567496</td>\n",
              "      <td>0.528193</td>\n",
              "      <td>0.520183</td>\n",
              "      <td>0.531675</td>\n",
              "      <td>0.561040</td>\n",
              "    </tr>\n",
              "    <tr>\n",
              "      <th>1</th>\n",
              "      <td>-584.085510</td>\n",
              "      <td>39.733234</td>\n",
              "      <td>-2.819869</td>\n",
              "      <td>10.983516</td>\n",
              "      <td>-1.897791</td>\n",
              "      <td>-6.922876</td>\n",
              "      <td>-14.886739</td>\n",
              "      <td>-9.417712</td>\n",
              "      <td>-5.231410</td>\n",
              "      <td>1.352311</td>\n",
              "      <td>...</td>\n",
              "      <td>0.595505</td>\n",
              "      <td>0.574596</td>\n",
              "      <td>0.508687</td>\n",
              "      <td>0.490343</td>\n",
              "      <td>0.550999</td>\n",
              "      <td>0.560133</td>\n",
              "      <td>0.625444</td>\n",
              "      <td>0.707241</td>\n",
              "      <td>0.715302</td>\n",
              "      <td>0.778056</td>\n",
              "    </tr>\n",
              "    <tr>\n",
              "      <th>2</th>\n",
              "      <td>-634.365906</td>\n",
              "      <td>53.524960</td>\n",
              "      <td>1.931118</td>\n",
              "      <td>10.183448</td>\n",
              "      <td>-1.134427</td>\n",
              "      <td>-9.264474</td>\n",
              "      <td>-16.133320</td>\n",
              "      <td>-5.179246</td>\n",
              "      <td>-7.692840</td>\n",
              "      <td>1.537901</td>\n",
              "      <td>...</td>\n",
              "      <td>0.651007</td>\n",
              "      <td>0.600976</td>\n",
              "      <td>0.605563</td>\n",
              "      <td>0.618894</td>\n",
              "      <td>0.610335</td>\n",
              "      <td>0.649571</td>\n",
              "      <td>0.664244</td>\n",
              "      <td>0.659528</td>\n",
              "      <td>0.667636</td>\n",
              "      <td>0.690084</td>\n",
              "    </tr>\n",
              "    <tr>\n",
              "      <th>3</th>\n",
              "      <td>-617.108032</td>\n",
              "      <td>57.961075</td>\n",
              "      <td>-1.609883</td>\n",
              "      <td>11.663807</td>\n",
              "      <td>2.932618</td>\n",
              "      <td>-6.709863</td>\n",
              "      <td>-11.051159</td>\n",
              "      <td>-4.720947</td>\n",
              "      <td>-4.965144</td>\n",
              "      <td>0.344765</td>\n",
              "      <td>...</td>\n",
              "      <td>0.586239</td>\n",
              "      <td>0.577910</td>\n",
              "      <td>0.588816</td>\n",
              "      <td>0.593688</td>\n",
              "      <td>0.607869</td>\n",
              "      <td>0.610051</td>\n",
              "      <td>0.651315</td>\n",
              "      <td>0.742181</td>\n",
              "      <td>0.711857</td>\n",
              "      <td>0.643531</td>\n",
              "    </tr>\n",
              "    <tr>\n",
              "      <th>4</th>\n",
              "      <td>-426.697784</td>\n",
              "      <td>30.027719</td>\n",
              "      <td>-20.288496</td>\n",
              "      <td>4.213167</td>\n",
              "      <td>-12.470323</td>\n",
              "      <td>-10.929867</td>\n",
              "      <td>-6.361925</td>\n",
              "      <td>-12.002077</td>\n",
              "      <td>-13.903050</td>\n",
              "      <td>5.385250</td>\n",
              "      <td>...</td>\n",
              "      <td>0.557655</td>\n",
              "      <td>0.544142</td>\n",
              "      <td>0.530530</td>\n",
              "      <td>0.558295</td>\n",
              "      <td>0.586619</td>\n",
              "      <td>0.541569</td>\n",
              "      <td>0.536285</td>\n",
              "      <td>0.568345</td>\n",
              "      <td>0.551319</td>\n",
              "      <td>0.571638</td>\n",
              "    </tr>\n",
              "    <tr>\n",
              "      <th>...</th>\n",
              "      <td>...</td>\n",
              "      <td>...</td>\n",
              "      <td>...</td>\n",
              "      <td>...</td>\n",
              "      <td>...</td>\n",
              "      <td>...</td>\n",
              "      <td>...</td>\n",
              "      <td>...</td>\n",
              "      <td>...</td>\n",
              "      <td>...</td>\n",
              "      <td>...</td>\n",
              "      <td>...</td>\n",
              "      <td>...</td>\n",
              "      <td>...</td>\n",
              "      <td>...</td>\n",
              "      <td>...</td>\n",
              "      <td>...</td>\n",
              "      <td>...</td>\n",
              "      <td>...</td>\n",
              "      <td>...</td>\n",
              "      <td>...</td>\n",
              "    </tr>\n",
              "    <tr>\n",
              "      <th>2895</th>\n",
              "      <td>-537.497986</td>\n",
              "      <td>33.912415</td>\n",
              "      <td>-17.367428</td>\n",
              "      <td>1.641448</td>\n",
              "      <td>-13.561514</td>\n",
              "      <td>-10.013611</td>\n",
              "      <td>-6.788619</td>\n",
              "      <td>-9.947794</td>\n",
              "      <td>-9.232779</td>\n",
              "      <td>-3.985822</td>\n",
              "      <td>...</td>\n",
              "      <td>0.691943</td>\n",
              "      <td>0.684802</td>\n",
              "      <td>0.608561</td>\n",
              "      <td>0.577731</td>\n",
              "      <td>0.619962</td>\n",
              "      <td>0.669661</td>\n",
              "      <td>0.680618</td>\n",
              "      <td>0.696035</td>\n",
              "      <td>0.723051</td>\n",
              "      <td>0.745801</td>\n",
              "    </tr>\n",
              "    <tr>\n",
              "      <th>2896</th>\n",
              "      <td>-576.322266</td>\n",
              "      <td>45.961117</td>\n",
              "      <td>-18.477600</td>\n",
              "      <td>6.270887</td>\n",
              "      <td>-15.408111</td>\n",
              "      <td>-2.556136</td>\n",
              "      <td>-9.277953</td>\n",
              "      <td>-12.990032</td>\n",
              "      <td>-7.808734</td>\n",
              "      <td>0.290190</td>\n",
              "      <td>...</td>\n",
              "      <td>0.479396</td>\n",
              "      <td>0.495040</td>\n",
              "      <td>0.493665</td>\n",
              "      <td>0.513156</td>\n",
              "      <td>0.542380</td>\n",
              "      <td>0.561550</td>\n",
              "      <td>0.599118</td>\n",
              "      <td>0.572351</td>\n",
              "      <td>0.573544</td>\n",
              "      <td>0.575123</td>\n",
              "    </tr>\n",
              "    <tr>\n",
              "      <th>2897</th>\n",
              "      <td>-618.716980</td>\n",
              "      <td>52.878448</td>\n",
              "      <td>-10.296721</td>\n",
              "      <td>5.475019</td>\n",
              "      <td>-6.781945</td>\n",
              "      <td>-1.335837</td>\n",
              "      <td>-9.393105</td>\n",
              "      <td>-11.687968</td>\n",
              "      <td>-7.041688</td>\n",
              "      <td>1.007899</td>\n",
              "      <td>...</td>\n",
              "      <td>0.434423</td>\n",
              "      <td>0.448702</td>\n",
              "      <td>0.455442</td>\n",
              "      <td>0.533610</td>\n",
              "      <td>0.546764</td>\n",
              "      <td>0.531184</td>\n",
              "      <td>0.527218</td>\n",
              "      <td>0.577220</td>\n",
              "      <td>0.587715</td>\n",
              "      <td>0.538401</td>\n",
              "    </tr>\n",
              "    <tr>\n",
              "      <th>2898</th>\n",
              "      <td>-550.752991</td>\n",
              "      <td>48.402328</td>\n",
              "      <td>-16.642029</td>\n",
              "      <td>0.596910</td>\n",
              "      <td>-12.640155</td>\n",
              "      <td>-3.948209</td>\n",
              "      <td>-14.291334</td>\n",
              "      <td>-14.503586</td>\n",
              "      <td>-6.559266</td>\n",
              "      <td>-1.528507</td>\n",
              "      <td>...</td>\n",
              "      <td>0.535383</td>\n",
              "      <td>0.540516</td>\n",
              "      <td>0.505517</td>\n",
              "      <td>0.521778</td>\n",
              "      <td>0.565526</td>\n",
              "      <td>0.610539</td>\n",
              "      <td>0.592268</td>\n",
              "      <td>0.614464</td>\n",
              "      <td>0.652888</td>\n",
              "      <td>0.683912</td>\n",
              "    </tr>\n",
              "    <tr>\n",
              "      <th>2899</th>\n",
              "      <td>-559.044189</td>\n",
              "      <td>47.583981</td>\n",
              "      <td>-17.176203</td>\n",
              "      <td>2.418778</td>\n",
              "      <td>-11.840793</td>\n",
              "      <td>-3.964209</td>\n",
              "      <td>-12.633837</td>\n",
              "      <td>-12.301811</td>\n",
              "      <td>-7.281783</td>\n",
              "      <td>0.527181</td>\n",
              "      <td>...</td>\n",
              "      <td>0.607340</td>\n",
              "      <td>0.621357</td>\n",
              "      <td>0.606697</td>\n",
              "      <td>0.616823</td>\n",
              "      <td>0.628379</td>\n",
              "      <td>0.651883</td>\n",
              "      <td>0.717453</td>\n",
              "      <td>0.752946</td>\n",
              "      <td>0.757269</td>\n",
              "      <td>0.707169</td>\n",
              "    </tr>\n",
              "  </tbody>\n",
              "</table>\n",
              "<p>2900 rows × 59 columns</p>\n",
              "</div>\n",
              "      <button class=\"colab-df-convert\" onclick=\"convertToInteractive('df-e977aee4-8bed-4a4f-ab33-668023b4ce0e')\"\n",
              "              title=\"Convert this dataframe to an interactive table.\"\n",
              "              style=\"display:none;\">\n",
              "        \n",
              "  <svg xmlns=\"http://www.w3.org/2000/svg\" height=\"24px\"viewBox=\"0 0 24 24\"\n",
              "       width=\"24px\">\n",
              "    <path d=\"M0 0h24v24H0V0z\" fill=\"none\"/>\n",
              "    <path d=\"M18.56 5.44l.94 2.06.94-2.06 2.06-.94-2.06-.94-.94-2.06-.94 2.06-2.06.94zm-11 1L8.5 8.5l.94-2.06 2.06-.94-2.06-.94L8.5 2.5l-.94 2.06-2.06.94zm10 10l.94 2.06.94-2.06 2.06-.94-2.06-.94-.94-2.06-.94 2.06-2.06.94z\"/><path d=\"M17.41 7.96l-1.37-1.37c-.4-.4-.92-.59-1.43-.59-.52 0-1.04.2-1.43.59L10.3 9.45l-7.72 7.72c-.78.78-.78 2.05 0 2.83L4 21.41c.39.39.9.59 1.41.59.51 0 1.02-.2 1.41-.59l7.78-7.78 2.81-2.81c.8-.78.8-2.07 0-2.86zM5.41 20L4 18.59l7.72-7.72 1.47 1.35L5.41 20z\"/>\n",
              "  </svg>\n",
              "      </button>\n",
              "      \n",
              "  <style>\n",
              "    .colab-df-container {\n",
              "      display:flex;\n",
              "      flex-wrap:wrap;\n",
              "      gap: 12px;\n",
              "    }\n",
              "\n",
              "    .colab-df-convert {\n",
              "      background-color: #E8F0FE;\n",
              "      border: none;\n",
              "      border-radius: 50%;\n",
              "      cursor: pointer;\n",
              "      display: none;\n",
              "      fill: #1967D2;\n",
              "      height: 32px;\n",
              "      padding: 0 0 0 0;\n",
              "      width: 32px;\n",
              "    }\n",
              "\n",
              "    .colab-df-convert:hover {\n",
              "      background-color: #E2EBFA;\n",
              "      box-shadow: 0px 1px 2px rgba(60, 64, 67, 0.3), 0px 1px 3px 1px rgba(60, 64, 67, 0.15);\n",
              "      fill: #174EA6;\n",
              "    }\n",
              "\n",
              "    [theme=dark] .colab-df-convert {\n",
              "      background-color: #3B4455;\n",
              "      fill: #D2E3FC;\n",
              "    }\n",
              "\n",
              "    [theme=dark] .colab-df-convert:hover {\n",
              "      background-color: #434B5C;\n",
              "      box-shadow: 0px 1px 3px 1px rgba(0, 0, 0, 0.15);\n",
              "      filter: drop-shadow(0px 1px 2px rgba(0, 0, 0, 0.3));\n",
              "      fill: #FFFFFF;\n",
              "    }\n",
              "  </style>\n",
              "\n",
              "      <script>\n",
              "        const buttonEl =\n",
              "          document.querySelector('#df-e977aee4-8bed-4a4f-ab33-668023b4ce0e button.colab-df-convert');\n",
              "        buttonEl.style.display =\n",
              "          google.colab.kernel.accessAllowed ? 'block' : 'none';\n",
              "\n",
              "        async function convertToInteractive(key) {\n",
              "          const element = document.querySelector('#df-e977aee4-8bed-4a4f-ab33-668023b4ce0e');\n",
              "          const dataTable =\n",
              "            await google.colab.kernel.invokeFunction('convertToInteractive',\n",
              "                                                     [key], {});\n",
              "          if (!dataTable) return;\n",
              "\n",
              "          const docLinkHtml = 'Like what you see? Visit the ' +\n",
              "            '<a target=\"_blank\" href=https://colab.research.google.com/notebooks/data_table.ipynb>data table notebook</a>'\n",
              "            + ' to learn more about interactive tables.';\n",
              "          element.innerHTML = '';\n",
              "          dataTable['output_type'] = 'display_data';\n",
              "          await google.colab.output.renderOutput(dataTable, element);\n",
              "          const docLink = document.createElement('div');\n",
              "          docLink.innerHTML = docLinkHtml;\n",
              "          element.appendChild(docLink);\n",
              "        }\n",
              "      </script>\n",
              "    </div>\n",
              "  </div>\n",
              "  "
            ]
          },
          "metadata": {},
          "execution_count": 23
        }
      ],
      "source": [
        " da = pd.DataFrame(x_da, columns =['m1','m2','m3','m4','m5','m6','m7','m8','m9','m10','m11','m12','m13','m14','m15','m16','m17','m18','m19','m20','m21','m22','m23','m24','m25','m26','m27','m28','m29','m30','m31','m32','m33','m34','m35','m36','m37','m38','m39','m40','c1','c2','c3','c4','c5','c6','c7','h1','h2','h3','h4','h5','h6','h7','h8','h9','h10','h11','h12'])\n",
        " da"
      ]
    },
    {
      "cell_type": "code",
      "execution_count": null,
      "metadata": {
        "id": "SSUHadceR1nr"
      },
      "outputs": [],
      "source": [
        "def waveplot(data, sr, emotion):\n",
        "    plt.figure(figsize=(10,4))\n",
        "    plt.title(emotion, size=20)\n",
        "    librosa.display.waveplot(data, sr=sr)\n",
        "    plt.show()\n",
        "\n",
        "def spectogram(data, sr, emotion):\n",
        "    x = librosa.stft(data)\n",
        "    xdb = librosa.amplitude_to_db(abs(x))\n",
        "    plt.figure(figsize=(11,4))\n",
        "    plt.title(emotion, size=20)\n",
        "    librosa.display.specshow(xdb, sr=sr, x_axis='time', y_axis='hz')\n",
        "    plt.colorbar()"
      ]
    },
    {
      "cell_type": "code",
      "source": [
        "def extract_feature_5(filename):\n",
        "    data, sample_rate = librosa.load(filename)\n",
        "    return data"
      ],
      "metadata": {
        "id": "ZxmEi4izTUDW"
      },
      "execution_count": null,
      "outputs": []
    },
    {
      "cell_type": "code",
      "source": [
        "def extract_feature_6(filename):\n",
        "    data, sample_rate = librosa.load(filename)\n",
        "    return sample_rate"
      ],
      "metadata": {
        "id": "_QfR7WbCYQft"
      },
      "execution_count": null,
      "outputs": []
    },
    {
      "cell_type": "code",
      "execution_count": null,
      "metadata": {
        "colab": {
          "base_uri": "https://localhost:8080/"
        },
        "id": "p8sKmc6_R5ys",
        "outputId": "d90fb3b4-35a7-4051-bbae-aa21ffa3d4f9"
      },
      "outputs": [
        {
          "output_type": "execute_result",
          "data": {
            "text/plain": [
              "(2900, 59)"
            ]
          },
          "metadata": {},
          "execution_count": 55
        }
      ],
      "source": [
        "X = [x for x in x_da]\n",
        "X = np.array(X)\n",
        "X.shape"
      ]
    },
    {
      "cell_type": "code",
      "execution_count": null,
      "metadata": {
        "colab": {
          "base_uri": "https://localhost:8080/"
        },
        "id": "UwxKT7rvs4rf",
        "outputId": "68ce4c40-6048-4410-d7be-aec58deaa320"
      },
      "outputs": [
        {
          "output_type": "execute_result",
          "data": {
            "text/plain": [
              "(2900, 59, 1)"
            ]
          },
          "metadata": {},
          "execution_count": 56
        }
      ],
      "source": [
        "## input split\n",
        "X = np.expand_dims(X, -1)\n",
        "X.shape"
      ]
    },
    {
      "cell_type": "code",
      "execution_count": null,
      "metadata": {
        "id": "I1LZ8aIAs5La"
      },
      "outputs": [],
      "source": [
        "from sklearn.preprocessing import OneHotEncoder\n",
        "enc = OneHotEncoder()\n",
        "y = enc.fit_transform(df[['label']])"
      ]
    },
    {
      "cell_type": "code",
      "execution_count": null,
      "metadata": {
        "id": "PBYLpRM2s8EF"
      },
      "outputs": [],
      "source": [
        "y = y.toarray()"
      ]
    },
    {
      "cell_type": "code",
      "execution_count": null,
      "metadata": {
        "colab": {
          "base_uri": "https://localhost:8080/"
        },
        "id": "2gnTu7lqs_D2",
        "outputId": "6af512de-4504-4376-bdb4-a799dbc12e58"
      },
      "outputs": [
        {
          "output_type": "execute_result",
          "data": {
            "text/plain": [
              "(2900, 8)"
            ]
          },
          "metadata": {},
          "execution_count": 59
        }
      ],
      "source": [
        "y.shape"
      ]
    },
    {
      "cell_type": "markdown",
      "metadata": {
        "id": "rVBgwGFstDew"
      },
      "source": [
        "Create the LSTM **Model:**"
      ]
    },
    {
      "cell_type": "code",
      "execution_count": null,
      "metadata": {
        "id": "-BgQikQXRedu",
        "colab": {
          "base_uri": "https://localhost:8080/"
        },
        "outputId": "1b275b90-f807-4126-ded4-1e5709bcbcaa"
      },
      "outputs": [
        {
          "output_type": "stream",
          "name": "stdout",
          "text": [
            "(2175, 59, 1)\n",
            "(2175, 8)\n",
            "(725, 59, 1)\n",
            "(725, 8)\n"
          ]
        }
      ],
      "source": [
        "from sklearn.model_selection import train_test_split\n",
        "\n",
        "x_train, x_test, y_train, y_test = train_test_split(X, y, test_size = 0.25, random_state = 44)\n",
        "\n",
        "# determining the shapes of training and testing sets\n",
        "print(x_train.shape)\n",
        "print(y_train.shape)\n",
        "print(x_test.shape)\n",
        "print(y_test.shape)"
      ]
    },
    {
      "cell_type": "code",
      "execution_count": null,
      "metadata": {
        "colab": {
          "base_uri": "https://localhost:8080/"
        },
        "id": "89UcVNFqtA3u",
        "outputId": "dfbb081b-88d1-4623-b9ff-a7a179338684"
      },
      "outputs": [
        {
          "output_type": "stream",
          "name": "stdout",
          "text": [
            "Model: \"sequential_2\"\n",
            "_________________________________________________________________\n",
            " Layer (type)                Output Shape              Param #   \n",
            "=================================================================\n",
            " lstm_2 (LSTM)               (None, 256)               264192    \n",
            "                                                                 \n",
            " dropout_6 (Dropout)         (None, 256)               0         \n",
            "                                                                 \n",
            " dense_6 (Dense)             (None, 128)               32896     \n",
            "                                                                 \n",
            " dropout_7 (Dropout)         (None, 128)               0         \n",
            "                                                                 \n",
            " dense_7 (Dense)             (None, 64)                8256      \n",
            "                                                                 \n",
            " dropout_8 (Dropout)         (None, 64)                0         \n",
            "                                                                 \n",
            " dense_8 (Dense)             (None, 8)                 520       \n",
            "                                                                 \n",
            "=================================================================\n",
            "Total params: 305,864\n",
            "Trainable params: 305,864\n",
            "Non-trainable params: 0\n",
            "_________________________________________________________________\n"
          ]
        }
      ],
      "source": [
        "from keras.models import Sequential\n",
        "from keras.layers import Dense, LSTM, Dropout\n",
        "\n",
        "model = Sequential([\n",
        "    LSTM(256, return_sequences=False, input_shape=(59,1)),\n",
        "    Dropout(0.2),\n",
        "    Dense(128, activation='relu'),\n",
        "    Dropout(0.2),\n",
        "    Dense(64, activation='relu'),\n",
        "    Dropout(0.2),\n",
        "    Dense(8, activation='softmax')\n",
        "])\n",
        "\n",
        "model.compile(loss='categorical_crossentropy', optimizer='adam', metrics=['accuracy'])\n",
        "model.summary()"
      ]
    },
    {
      "cell_type": "code",
      "execution_count": null,
      "metadata": {
        "colab": {
          "base_uri": "https://localhost:8080/"
        },
        "id": "g1FPAJxNxE3u",
        "outputId": "ba485e9e-e7c9-434b-a986-ef64a67d70ef"
      },
      "outputs": [
        {
          "output_type": "stream",
          "name": "stdout",
          "text": [
            "Epoch 1/100\n",
            "28/28 [==============================] - 10s 267ms/step - loss: 2.0791 - accuracy: 0.1316 - val_loss: 2.0716 - val_accuracy: 0.1218\n",
            "Epoch 2/100\n",
            "28/28 [==============================] - 7s 245ms/step - loss: 2.0636 - accuracy: 0.1425 - val_loss: 2.0748 - val_accuracy: 0.1264\n",
            "Epoch 3/100\n",
            "28/28 [==============================] - 7s 243ms/step - loss: 2.0656 - accuracy: 0.1276 - val_loss: 2.0689 - val_accuracy: 0.1218\n",
            "Epoch 4/100\n",
            "28/28 [==============================] - 7s 244ms/step - loss: 2.0645 - accuracy: 0.1397 - val_loss: 2.0724 - val_accuracy: 0.1540\n",
            "Epoch 5/100\n",
            "28/28 [==============================] - 7s 246ms/step - loss: 2.0615 - accuracy: 0.1385 - val_loss: 2.0679 - val_accuracy: 0.1402\n",
            "Epoch 6/100\n",
            "28/28 [==============================] - 7s 246ms/step - loss: 2.0457 - accuracy: 0.1609 - val_loss: 2.0720 - val_accuracy: 0.1724\n",
            "Epoch 7/100\n",
            "28/28 [==============================] - 7s 246ms/step - loss: 2.0178 - accuracy: 0.1994 - val_loss: 1.9534 - val_accuracy: 0.2437\n",
            "Epoch 8/100\n",
            "28/28 [==============================] - 7s 247ms/step - loss: 2.0039 - accuracy: 0.1948 - val_loss: 1.9700 - val_accuracy: 0.2322\n",
            "Epoch 9/100\n",
            "28/28 [==============================] - 7s 249ms/step - loss: 1.9844 - accuracy: 0.1851 - val_loss: 1.9302 - val_accuracy: 0.2483\n",
            "Epoch 10/100\n",
            "28/28 [==============================] - 8s 305ms/step - loss: 1.9586 - accuracy: 0.2287 - val_loss: 1.9362 - val_accuracy: 0.2368\n",
            "Epoch 11/100\n",
            "28/28 [==============================] - 7s 249ms/step - loss: 1.9571 - accuracy: 0.2195 - val_loss: 1.9274 - val_accuracy: 0.2368\n",
            "Epoch 12/100\n",
            "28/28 [==============================] - 7s 246ms/step - loss: 1.9404 - accuracy: 0.2287 - val_loss: 1.9450 - val_accuracy: 0.2368\n",
            "Epoch 13/100\n",
            "28/28 [==============================] - 7s 246ms/step - loss: 1.9339 - accuracy: 0.2218 - val_loss: 1.9003 - val_accuracy: 0.2552\n",
            "Epoch 14/100\n",
            "28/28 [==============================] - 7s 244ms/step - loss: 1.9022 - accuracy: 0.2264 - val_loss: 1.9012 - val_accuracy: 0.2414\n",
            "Epoch 15/100\n",
            "28/28 [==============================] - 7s 248ms/step - loss: 1.9001 - accuracy: 0.2333 - val_loss: 1.8949 - val_accuracy: 0.2483\n",
            "Epoch 16/100\n",
            "28/28 [==============================] - 7s 247ms/step - loss: 1.8782 - accuracy: 0.2523 - val_loss: 1.9069 - val_accuracy: 0.2506\n",
            "Epoch 17/100\n",
            "28/28 [==============================] - 7s 245ms/step - loss: 1.9019 - accuracy: 0.2408 - val_loss: 1.9089 - val_accuracy: 0.2529\n",
            "Epoch 18/100\n",
            "28/28 [==============================] - 7s 245ms/step - loss: 1.8694 - accuracy: 0.2443 - val_loss: 1.8743 - val_accuracy: 0.2736\n",
            "Epoch 19/100\n",
            "28/28 [==============================] - 7s 245ms/step - loss: 1.8844 - accuracy: 0.2609 - val_loss: 1.8197 - val_accuracy: 0.2828\n",
            "Epoch 20/100\n",
            "28/28 [==============================] - 7s 247ms/step - loss: 1.8936 - accuracy: 0.2575 - val_loss: 1.8366 - val_accuracy: 0.2667\n",
            "Epoch 21/100\n",
            "28/28 [==============================] - 7s 248ms/step - loss: 1.8552 - accuracy: 0.2586 - val_loss: 1.8550 - val_accuracy: 0.2759\n",
            "Epoch 22/100\n",
            "28/28 [==============================] - 7s 245ms/step - loss: 1.8354 - accuracy: 0.2667 - val_loss: 1.8303 - val_accuracy: 0.2805\n",
            "Epoch 23/100\n",
            "28/28 [==============================] - 7s 262ms/step - loss: 1.8192 - accuracy: 0.2649 - val_loss: 1.8063 - val_accuracy: 0.2759\n",
            "Epoch 24/100\n",
            "28/28 [==============================] - 10s 368ms/step - loss: 1.8144 - accuracy: 0.2793 - val_loss: 1.8148 - val_accuracy: 0.2690\n",
            "Epoch 25/100\n",
            "28/28 [==============================] - 7s 246ms/step - loss: 1.8454 - accuracy: 0.2603 - val_loss: 1.8266 - val_accuracy: 0.2874\n",
            "Epoch 26/100\n",
            "28/28 [==============================] - 7s 246ms/step - loss: 1.8028 - accuracy: 0.2914 - val_loss: 1.8006 - val_accuracy: 0.2874\n",
            "Epoch 27/100\n",
            "28/28 [==============================] - 7s 245ms/step - loss: 1.7929 - accuracy: 0.2839 - val_loss: 1.7506 - val_accuracy: 0.3241\n",
            "Epoch 28/100\n",
            "28/28 [==============================] - 7s 247ms/step - loss: 1.7707 - accuracy: 0.2822 - val_loss: 1.7781 - val_accuracy: 0.3011\n",
            "Epoch 29/100\n",
            "28/28 [==============================] - 7s 247ms/step - loss: 1.7446 - accuracy: 0.3011 - val_loss: 1.7171 - val_accuracy: 0.2989\n",
            "Epoch 30/100\n",
            "28/28 [==============================] - 7s 247ms/step - loss: 1.7412 - accuracy: 0.2960 - val_loss: 1.7242 - val_accuracy: 0.3425\n",
            "Epoch 31/100\n",
            "28/28 [==============================] - 7s 244ms/step - loss: 1.7138 - accuracy: 0.3299 - val_loss: 1.7198 - val_accuracy: 0.3379\n",
            "Epoch 32/100\n",
            "28/28 [==============================] - 7s 247ms/step - loss: 1.6913 - accuracy: 0.3155 - val_loss: 1.6966 - val_accuracy: 0.3080\n",
            "Epoch 33/100\n",
            "28/28 [==============================] - 7s 247ms/step - loss: 1.6795 - accuracy: 0.3339 - val_loss: 1.6889 - val_accuracy: 0.3287\n",
            "Epoch 34/100\n",
            "28/28 [==============================] - 7s 245ms/step - loss: 1.6613 - accuracy: 0.3368 - val_loss: 1.7274 - val_accuracy: 0.2989\n",
            "Epoch 35/100\n",
            "28/28 [==============================] - 7s 246ms/step - loss: 1.7064 - accuracy: 0.3236 - val_loss: 1.7056 - val_accuracy: 0.3356\n",
            "Epoch 36/100\n",
            "28/28 [==============================] - 7s 245ms/step - loss: 1.6950 - accuracy: 0.3351 - val_loss: 1.6995 - val_accuracy: 0.3149\n",
            "Epoch 37/100\n",
            "28/28 [==============================] - 7s 247ms/step - loss: 1.6490 - accuracy: 0.3500 - val_loss: 1.6585 - val_accuracy: 0.3517\n",
            "Epoch 38/100\n",
            "28/28 [==============================] - 7s 249ms/step - loss: 1.6334 - accuracy: 0.3489 - val_loss: 1.6323 - val_accuracy: 0.3632\n",
            "Epoch 39/100\n",
            "28/28 [==============================] - 7s 248ms/step - loss: 1.6107 - accuracy: 0.3684 - val_loss: 1.6454 - val_accuracy: 0.3563\n",
            "Epoch 40/100\n",
            "28/28 [==============================] - 7s 245ms/step - loss: 1.6090 - accuracy: 0.3736 - val_loss: 1.6365 - val_accuracy: 0.3540\n",
            "Epoch 41/100\n",
            "28/28 [==============================] - 7s 247ms/step - loss: 1.5650 - accuracy: 0.3925 - val_loss: 1.5828 - val_accuracy: 0.3862\n",
            "Epoch 42/100\n",
            "28/28 [==============================] - 7s 247ms/step - loss: 1.5576 - accuracy: 0.3718 - val_loss: 1.8130 - val_accuracy: 0.3379\n",
            "Epoch 43/100\n",
            "28/28 [==============================] - 7s 246ms/step - loss: 1.5662 - accuracy: 0.4000 - val_loss: 1.5911 - val_accuracy: 0.3977\n",
            "Epoch 44/100\n",
            "28/28 [==============================] - 7s 246ms/step - loss: 1.5397 - accuracy: 0.4121 - val_loss: 1.6272 - val_accuracy: 0.3839\n",
            "Epoch 45/100\n",
            "28/28 [==============================] - 7s 246ms/step - loss: 1.5260 - accuracy: 0.4184 - val_loss: 1.5830 - val_accuracy: 0.3908\n",
            "Epoch 46/100\n",
            "28/28 [==============================] - 7s 244ms/step - loss: 1.5334 - accuracy: 0.4201 - val_loss: 1.5744 - val_accuracy: 0.3747\n",
            "Epoch 47/100\n",
            "28/28 [==============================] - 7s 248ms/step - loss: 1.5053 - accuracy: 0.4138 - val_loss: 1.5645 - val_accuracy: 0.3885\n",
            "Epoch 48/100\n",
            "28/28 [==============================] - 7s 246ms/step - loss: 1.4694 - accuracy: 0.4241 - val_loss: 1.5290 - val_accuracy: 0.3862\n",
            "Epoch 49/100\n",
            "28/28 [==============================] - 7s 248ms/step - loss: 1.4585 - accuracy: 0.4569 - val_loss: 1.5495 - val_accuracy: 0.3954\n",
            "Epoch 50/100\n",
            "28/28 [==============================] - 7s 247ms/step - loss: 1.4267 - accuracy: 0.4552 - val_loss: 1.4690 - val_accuracy: 0.4345\n",
            "Epoch 51/100\n",
            "28/28 [==============================] - 7s 250ms/step - loss: 1.4247 - accuracy: 0.4494 - val_loss: 1.5217 - val_accuracy: 0.3931\n",
            "Epoch 52/100\n",
            "28/28 [==============================] - 7s 249ms/step - loss: 1.3832 - accuracy: 0.4747 - val_loss: 1.4337 - val_accuracy: 0.4529\n",
            "Epoch 53/100\n",
            "28/28 [==============================] - 7s 250ms/step - loss: 1.3357 - accuracy: 0.4851 - val_loss: 1.4079 - val_accuracy: 0.4667\n",
            "Epoch 54/100\n",
            "28/28 [==============================] - 7s 250ms/step - loss: 1.2684 - accuracy: 0.5086 - val_loss: 1.4307 - val_accuracy: 0.4667\n",
            "Epoch 55/100\n",
            "28/28 [==============================] - 7s 253ms/step - loss: 1.3384 - accuracy: 0.4897 - val_loss: 1.4632 - val_accuracy: 0.4621\n",
            "Epoch 56/100\n",
            "28/28 [==============================] - 7s 251ms/step - loss: 1.2826 - accuracy: 0.5069 - val_loss: 1.5182 - val_accuracy: 0.4184\n",
            "Epoch 57/100\n",
            "28/28 [==============================] - 7s 259ms/step - loss: 1.2751 - accuracy: 0.5121 - val_loss: 1.4255 - val_accuracy: 0.4552\n",
            "Epoch 58/100\n",
            "28/28 [==============================] - 7s 246ms/step - loss: 1.2293 - accuracy: 0.5213 - val_loss: 1.5161 - val_accuracy: 0.4667\n",
            "Epoch 59/100\n",
            "28/28 [==============================] - 7s 248ms/step - loss: 1.2770 - accuracy: 0.5086 - val_loss: 1.4024 - val_accuracy: 0.4529\n",
            "Epoch 60/100\n",
            "28/28 [==============================] - 7s 246ms/step - loss: 1.2391 - accuracy: 0.5264 - val_loss: 1.4611 - val_accuracy: 0.4529\n",
            "Epoch 61/100\n",
            "28/28 [==============================] - 7s 250ms/step - loss: 1.2198 - accuracy: 0.5339 - val_loss: 1.4018 - val_accuracy: 0.4713\n",
            "Epoch 62/100\n",
            "28/28 [==============================] - 7s 249ms/step - loss: 1.1212 - accuracy: 0.5747 - val_loss: 1.4313 - val_accuracy: 0.4506\n",
            "Epoch 63/100\n",
            "28/28 [==============================] - 7s 252ms/step - loss: 1.2418 - accuracy: 0.5236 - val_loss: 1.3312 - val_accuracy: 0.4989\n",
            "Epoch 64/100\n",
            "28/28 [==============================] - 7s 247ms/step - loss: 1.1317 - accuracy: 0.5678 - val_loss: 1.3714 - val_accuracy: 0.5103\n",
            "Epoch 65/100\n",
            "28/28 [==============================] - 7s 248ms/step - loss: 1.0797 - accuracy: 0.5897 - val_loss: 1.4083 - val_accuracy: 0.5011\n",
            "Epoch 66/100\n",
            "28/28 [==============================] - 8s 281ms/step - loss: 1.0668 - accuracy: 0.6000 - val_loss: 1.4223 - val_accuracy: 0.4943\n",
            "Epoch 67/100\n",
            "28/28 [==============================] - 9s 333ms/step - loss: 1.0672 - accuracy: 0.5851 - val_loss: 1.4525 - val_accuracy: 0.4897\n",
            "Epoch 68/100\n",
            "28/28 [==============================] - 7s 247ms/step - loss: 1.1271 - accuracy: 0.5592 - val_loss: 1.5017 - val_accuracy: 0.5195\n",
            "Epoch 69/100\n",
            "28/28 [==============================] - 7s 249ms/step - loss: 0.9993 - accuracy: 0.6109 - val_loss: 1.2965 - val_accuracy: 0.5517\n",
            "Epoch 70/100\n",
            "28/28 [==============================] - 7s 248ms/step - loss: 0.9707 - accuracy: 0.6172 - val_loss: 1.3663 - val_accuracy: 0.5310\n",
            "Epoch 71/100\n",
            "28/28 [==============================] - 7s 246ms/step - loss: 0.9846 - accuracy: 0.6098 - val_loss: 1.2877 - val_accuracy: 0.5448\n",
            "Epoch 72/100\n",
            "28/28 [==============================] - 7s 249ms/step - loss: 0.9309 - accuracy: 0.6316 - val_loss: 1.2528 - val_accuracy: 0.5724\n",
            "Epoch 73/100\n",
            "28/28 [==============================] - 7s 250ms/step - loss: 0.8667 - accuracy: 0.6649 - val_loss: 1.2717 - val_accuracy: 0.5609\n",
            "Epoch 74/100\n",
            "28/28 [==============================] - 7s 247ms/step - loss: 0.9597 - accuracy: 0.6356 - val_loss: 1.5790 - val_accuracy: 0.4575\n",
            "Epoch 75/100\n",
            "28/28 [==============================] - 7s 249ms/step - loss: 1.0638 - accuracy: 0.5954 - val_loss: 1.2940 - val_accuracy: 0.5448\n",
            "Epoch 76/100\n",
            "28/28 [==============================] - 7s 250ms/step - loss: 0.8141 - accuracy: 0.6851 - val_loss: 1.3320 - val_accuracy: 0.5747\n",
            "Epoch 77/100\n",
            "28/28 [==============================] - 7s 249ms/step - loss: 0.8006 - accuracy: 0.6971 - val_loss: 1.3264 - val_accuracy: 0.5839\n",
            "Epoch 78/100\n",
            "28/28 [==============================] - 7s 248ms/step - loss: 0.8144 - accuracy: 0.6966 - val_loss: 1.4279 - val_accuracy: 0.5540\n",
            "Epoch 79/100\n",
            "28/28 [==============================] - 7s 258ms/step - loss: 0.8389 - accuracy: 0.6891 - val_loss: 1.4114 - val_accuracy: 0.5448\n",
            "Epoch 80/100\n",
            "28/28 [==============================] - 7s 250ms/step - loss: 0.9797 - accuracy: 0.6328 - val_loss: 1.2728 - val_accuracy: 0.5747\n",
            "Epoch 81/100\n",
            "28/28 [==============================] - 7s 249ms/step - loss: 0.7631 - accuracy: 0.7126 - val_loss: 1.2649 - val_accuracy: 0.6023\n",
            "Epoch 82/100\n",
            "28/28 [==============================] - 7s 250ms/step - loss: 0.6865 - accuracy: 0.7454 - val_loss: 1.2320 - val_accuracy: 0.6092\n",
            "Epoch 83/100\n",
            "28/28 [==============================] - 7s 252ms/step - loss: 0.6865 - accuracy: 0.7408 - val_loss: 1.3088 - val_accuracy: 0.6000\n",
            "Epoch 84/100\n",
            "28/28 [==============================] - 7s 250ms/step - loss: 0.6459 - accuracy: 0.7690 - val_loss: 1.2106 - val_accuracy: 0.6069\n",
            "Epoch 85/100\n",
            "28/28 [==============================] - 7s 248ms/step - loss: 0.7312 - accuracy: 0.7241 - val_loss: 1.2903 - val_accuracy: 0.5977\n",
            "Epoch 86/100\n",
            "28/28 [==============================] - 7s 248ms/step - loss: 0.7229 - accuracy: 0.7328 - val_loss: 1.1575 - val_accuracy: 0.6299\n",
            "Epoch 87/100\n",
            "28/28 [==============================] - 7s 250ms/step - loss: 0.6102 - accuracy: 0.7816 - val_loss: 1.4511 - val_accuracy: 0.6046\n",
            "Epoch 88/100\n",
            "28/28 [==============================] - 7s 248ms/step - loss: 0.6721 - accuracy: 0.7592 - val_loss: 1.3216 - val_accuracy: 0.6253\n",
            "Epoch 89/100\n",
            "28/28 [==============================] - 7s 252ms/step - loss: 0.6600 - accuracy: 0.7649 - val_loss: 1.2522 - val_accuracy: 0.6046\n",
            "Epoch 90/100\n",
            "28/28 [==============================] - 7s 247ms/step - loss: 0.6006 - accuracy: 0.7943 - val_loss: 1.2753 - val_accuracy: 0.6345\n",
            "Epoch 91/100\n",
            "28/28 [==============================] - 7s 262ms/step - loss: 0.5686 - accuracy: 0.7937 - val_loss: 1.2760 - val_accuracy: 0.6644\n",
            "Epoch 92/100\n",
            "28/28 [==============================] - 7s 250ms/step - loss: 0.5487 - accuracy: 0.8000 - val_loss: 1.2568 - val_accuracy: 0.6598\n",
            "Epoch 93/100\n",
            "28/28 [==============================] - 7s 246ms/step - loss: 0.4833 - accuracy: 0.8224 - val_loss: 1.2531 - val_accuracy: 0.6621\n",
            "Epoch 94/100\n",
            "28/28 [==============================] - 7s 249ms/step - loss: 0.4683 - accuracy: 0.8362 - val_loss: 1.3580 - val_accuracy: 0.6552\n",
            "Epoch 95/100\n",
            "28/28 [==============================] - 7s 252ms/step - loss: 0.5796 - accuracy: 0.7966 - val_loss: 1.2693 - val_accuracy: 0.6460\n",
            "Epoch 96/100\n",
            "28/28 [==============================] - 7s 250ms/step - loss: 0.4891 - accuracy: 0.8287 - val_loss: 1.1700 - val_accuracy: 0.7218\n",
            "Epoch 97/100\n",
            "28/28 [==============================] - 7s 252ms/step - loss: 0.4185 - accuracy: 0.8598 - val_loss: 1.7472 - val_accuracy: 0.6138\n",
            "Epoch 98/100\n",
            "28/28 [==============================] - 7s 250ms/step - loss: 0.5614 - accuracy: 0.8213 - val_loss: 1.2628 - val_accuracy: 0.6713\n",
            "Epoch 99/100\n",
            "28/28 [==============================] - 7s 250ms/step - loss: 0.4842 - accuracy: 0.8374 - val_loss: 1.0312 - val_accuracy: 0.6851\n",
            "Epoch 100/100\n",
            "28/28 [==============================] - 7s 249ms/step - loss: 0.3701 - accuracy: 0.8782 - val_loss: 1.2930 - val_accuracy: 0.7034\n"
          ]
        }
      ],
      "source": [
        "history = model.fit(x_train, y_train, validation_split=0.2, epochs=100, batch_size=64)"
      ]
    },
    {
      "cell_type": "code",
      "execution_count": null,
      "metadata": {
        "id": "6aH0fOVUnyzC"
      },
      "outputs": [],
      "source": []
    }
  ],
  "metadata": {
    "accelerator": "GPU",
    "colab": {
      "provenance": []
    },
    "gpuClass": "standard",
    "kernelspec": {
      "display_name": "Python 3",
      "name": "python3"
    },
    "language_info": {
      "name": "python"
    }
  },
  "nbformat": 4,
  "nbformat_minor": 0
}